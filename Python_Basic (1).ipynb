{
  "nbformat": 4,
  "nbformat_minor": 0,
  "metadata": {
    "colab": {
      "provenance": []
    },
    "kernelspec": {
      "name": "python3",
      "display_name": "Python 3"
    },
    "language_info": {
      "name": "python"
    }
  },
  "cells": [
    {
      "cell_type": "markdown",
      "source": [
        "# PYTHON BASIC\n",
        "\n",
        "\n",
        "```\n",
        "\n"
      ],
      "metadata": {
        "id": "14lftCZi6avN"
      }
    },
    {
      "cell_type": "markdown",
      "source": [
        "#                       Theortical Questions\n",
        "\n",
        "\n",
        "\n",
        "---\n",
        "\n"
      ],
      "metadata": {
        "id": "pVDf5zO5wjYv"
      }
    },
    {
      "cell_type": "markdown",
      "source": [
        "Q.1 What is Python, and why is it popular?\n",
        "   -  Python is a high level, interpreted programming language known for it's simplicity, readability and versatility.\n",
        "\n",
        "   Reason for Popularity:\n",
        "\n",
        "    1. Simple and Readable Syntax:\n",
        "\n",
        "       Code looks like normal english sentences that makes it beginner-friendly.\n",
        "\n",
        "    2. Versatile Applications:\n",
        "\n",
        "        Python is a general-purpose language, used in multiple domains. Such as:\n",
        "\n",
        "\n",
        "            - Web Development.\n",
        "            - Data Science.\n",
        "            - Machine Learning.\n",
        "            - Game Development.\n",
        "\n",
        "\n",
        "Q.2 What is an interpreter in Python?\n",
        "\n",
        "    - A Python interpreter is a program that directly executes Python code. Unlike compiled languages, which are entirely converted into machine code before execution, Python is an interpreted language. This means the interpreter reads your Python code, analyzes it, and executes it directly, line by line.\n",
        "\n",
        "\n",
        "Q.3 What are pre-defined keywords in Python?\n",
        "\n",
        "    -  The pre-defined Keywords in python are:\n",
        "        - Conditional Statements:  if, else, elif\n",
        "        - Loops:   for, while\n",
        "        - Function:   def, return\n",
        "        - OOP:   class, self\n",
        "        - Modules:   import, from, as\n",
        "        - Error Handling:   try, except, finally\n",
        "        - Boolean Values & None:   True, False, None\n",
        "        - Logical Operators:   and, or, not\n",
        "        - Identity and Membership:   is, in\n",
        "        - Variable Scope:   global, nonlocal\n",
        "        - Advanced Functionality   with, lambda, yield\n",
        "\n",
        "  Q.4 Can keywords be used as variable names?\n",
        "       \n",
        "      - NO, keywords cannot be used as variable names. Keywords, also known as reserved words, are predefined words with specific meanings in a programming language and are reserved for that purpose. Using them as variable names would lead to syntax errors because the compiler or interpreter would recognize them as keywords, not as user-defined variable names.\n",
        "\n",
        "  Q.5 What is mutability in Python?\n",
        "      \n",
        "      - In Python, mutability refers to the ability of an object's state or value to be modified after it has been created. If an object is mutable, you can change its contents or structure without creating a new object in memory. This means that operations like adding elements, removing elements, or changing existing elements directly modify the original object.\n",
        "\n",
        "Q.6 Why are lists mutable, but tuples are immutable?\n",
        "\n",
        "     -  Why Lists are Mutable:\n",
        "\n",
        "       * A list is a dynamic data structure - that's designed to hold items that may change over time.\n",
        "      * Internally, Python stores list elements in a resizable array in memory. This allows to Add, Remove or Change elements freely by using methods like '.append()', '.pop()', '.insert()'.\n",
        "       * Used for dynamic contents.\n",
        "        \n",
        "      -  Why Tuples Are Immutable:\n",
        "      * A Tuple is a static data structure = that's intended to hold fixed data.\n",
        "      * Once created, the memory and structure are locked. This doesn't allow to Add or Remove items.\n",
        "      * This ensures Predictabililty and safety when used as keys in dictionaries or constants.\n",
        "\n",
        "Q.7 What is the difference between “==” and “is” operators in Python?\n",
        "    \n",
        "    -  == → Equality Operator:\n",
        "\n",
        "      * Checks if valus of two objects are equal.\n",
        "      * Two different objects can be equal if they contain the same data.\n",
        "\n",
        "       Example:\n",
        "               a = [1, 2, 3]\n",
        "               b = [1, 2, 3]\n",
        "               print(a == b)  # ✅ True → same contents\n",
        "\n",
        "\n",
        "    -  is → Identity Operator:\n",
        "\n",
        "       * Checks if the two variables point to the same object in memory.\n",
        "       * Even if two objects have same value, 'is' will return False unless they are literally the same object.\n",
        "\n",
        "       Example:\n",
        "               a = [1, 2, 3]\n",
        "               b = [1, 2, 3]\n",
        "               print(a == b)  # ❌ False → different objects in memory\n",
        "\n",
        "\n",
        "Q.8 What are logical operators in Python?\n",
        "    - Logical Operators are used to combine conditinal statements or expressions that result in True or False. They are essential in decision-making in python.\n",
        "      \n",
        "       Python's 3 Logical Operators:\n",
        "\n",
        "    Operators\t             DescriptionS                              Example\n",
        "     and         Returns True if both conditions are True.\t      x<2 and x<5\n",
        "     or\t         Returns True if atleast one condition is True\t  x<2 or x>5\n",
        "\n",
        "\n",
        "     |not|Returns True or False based on the result|   not x>7\n",
        "\n",
        "\n",
        "Q.9 What is type casting in Python ?\n",
        "\n",
        "    -  Type Casting (or Type Connversion) is the process of converting one data type into another in Python.\n",
        "\n",
        "      used to change the type of variable when needed.\n",
        "\n",
        "      Example:\n",
        "              a = \"123\"\n",
        "              b = int(a)   *# Convert str to int***\n",
        "      Example:\n",
        "             int(\"123\")  # ✅ Works → **str to int\n",
        "             int(\"abc\")  # ❌ Error → ValueError\n",
        "\n",
        "\n",
        "Q.10 What is the difference between implicit and explicit type casting ?\n",
        "\n",
        "    - Implicit Type Casting:\n",
        "      * Python automaticallly converts this data type.\n",
        "      *Happens silently during operations. No manual intervention required.\n",
        "\n",
        "      Example:\n",
        "              x = 5  # int\n",
        "              y = 52.5  # float\n",
        "              z = x + y   # int + float → float\n",
        "              print(z)   # Output: 7.5\n",
        "              print(type(z))   # <class 'float'>\n",
        "\n",
        "\n",
        "    - Explicit Type Casting:\n",
        "      * When data type is manually converted using functions like int(), folat(), str() etc.\n",
        "      \n",
        "      Example:\n",
        "              a = \"100\"\n",
        "              b = int(a)   # Convert string to integer\n",
        "\n",
        "       \n",
        "Q.11 What is the purpose of conditional statements in Python ?\n",
        "\n",
        "     -  Why Use Conditional Statements?\n",
        "        * To control the flow of your program.\n",
        "        * To perform execute different blocks of codes depending on if the consition is True or False.\n",
        "\n",
        "        Statement           \tPurpose\n",
        "           if\t       Checks a condition; runsblock if True\n",
        "          elif\t     Checks another condition if ifis False\n",
        "          else\t     Runs when None of the above are True\n",
        "\n",
        "Q.12  How does the elif statement work ?\n",
        "     \n",
        "      - The elif (short for \"else if\") statement is used to check multiple conditions after the initial if condition.\n",
        "\n",
        "      It allows you to add additional checks when the previous conditions are False, without writing multiple separate if blocks.\n",
        "\n",
        "       Example :\n",
        "                if condition1:\n",
        "                 # Run this block if condition1 is True\n",
        "\n",
        "                elif condition2:\n",
        "                 # Run this block if condition1 is False AND condition2 is True\n",
        "\n",
        "                elif condition3:\n",
        "                 # Run this block if previous are False AND condition3 is True\n",
        "                else:\n",
        "                 # Run this block if all above conditions are False\n",
        "\n",
        "\n",
        "Q.13 What is the difference between for and while loops ?\n",
        "    - For Loop:\n",
        "      A for loop is used to iterate over a sequence (list, string or range) and executes block of codes for each item in the sequence.\n",
        "      It is ideal when number of iteration os known in advance.\n",
        "\n",
        "       Example:\n",
        "        # Print numbers from 1 to 5 using a for loop\n",
        "        for i in range(1, 6):\n",
        "        print(f\"For loop: {i}\")                 \n",
        "\n",
        "\n",
        "    \n",
        "Q.14  Describe a scenario where a while loop is more suitable than a for loop.\n",
        "\n",
        "      - A While loop is ideal when we don't know in advance how many times to repeat the code - instead, the loop should continue as long as the condition is True.\n",
        "       \n",
        "       Example: Keep Rolling a Dice Until You Get a 6 👇\n",
        "\n",
        "       import random\n",
        "\n",
        "roll = 0\n",
        "attempts = 0\n",
        "\n",
        "while roll != 6:\n",
        "    roll = random.randint(1,6)\n",
        "    attempts += 1\n",
        "    print(f\"Roll {attempts}: You rolled a {roll}\")\n",
        "print(\"Congo ! You got a 6\")\n",
        "\n",
        "\n",
        "Roll 1: You rolled a 1\n",
        "Roll 2: You rolled a 4\n",
        "Roll 3: You rolled a 3\n",
        "Roll 4: You rolled a 1\n",
        "Roll 5: You rolled a 3\n",
        "Roll 6: You rolled a 3\n",
        "Roll 7: You rolled a 1\n",
        "Roll 8: You rolled a 1\n",
        "Roll 9: You rolled a 6\n",
        "Congo ! You got a 6\n",
        "\n",
        "\n",
        "      \n",
        "      \n",
        "\n",
        "\n",
        "\n",
        "\n",
        "\n",
        "\n",
        "  \n",
        "\n",
        "\n",
        "\n",
        "    \n",
        "\n",
        "\n",
        "\n",
        "  \n",
        "\n",
        "\n",
        "\n",
        "\n",
        "\n"
      ],
      "metadata": {
        "id": "R-QlgwJy6qRF"
      }
    },
    {
      "cell_type": "markdown",
      "source": [
        "# Practical Questions\n",
        "\n"
      ],
      "metadata": {
        "id": "CSqGBpwQwWON"
      }
    },
    {
      "cell_type": "markdown",
      "source": [
        "Q.1 Write a Python program to print \"Hello, World!\"?\n",
        "   "
      ],
      "metadata": {
        "id": "_AMmJ702xdp-"
      }
    },
    {
      "cell_type": "code",
      "source": [
        "print(\"Hello, World!\")"
      ],
      "metadata": {
        "colab": {
          "base_uri": "https://localhost:8080/"
        },
        "id": "m1sLJwmUxos7",
        "outputId": "aee67747-9e65-403d-9c3e-2a5b34cf8efa"
      },
      "execution_count": 6,
      "outputs": [
        {
          "output_type": "stream",
          "name": "stdout",
          "text": [
            "Hello, World!\n"
          ]
        }
      ]
    },
    {
      "cell_type": "markdown",
      "source": [
        "Q.2 Write a Python program that displays your name and age.\n"
      ],
      "metadata": {
        "id": "ym_gE4GeyB43"
      }
    },
    {
      "cell_type": "code",
      "source": [
        "name = input(\"Enter your name: \")\n",
        "age = input(\"Enter your age: \")\n",
        "print(f\"Your name is {name} and your age is {age}\")"
      ],
      "metadata": {
        "colab": {
          "base_uri": "https://localhost:8080/"
        },
        "id": "QwlmH-B8yOxs",
        "outputId": "ef93b8e6-ca18-4448-9f9b-2b67e6ec786b"
      },
      "execution_count": 7,
      "outputs": [
        {
          "output_type": "stream",
          "name": "stdout",
          "text": [
            "Enter your name: darshika\n",
            "Enter your age: 20\n",
            "Your name is darshika and your age is 20\n"
          ]
        }
      ]
    },
    {
      "cell_type": "markdown",
      "source": [
        "Q.3 Write code to print all the pre-defined keywords in Python using the keyword library.\n"
      ],
      "metadata": {
        "id": "ujH1NS8Lyd_u"
      }
    },
    {
      "cell_type": "code",
      "source": [
        "import keyword\n",
        "print(keyword.kwlist)"
      ],
      "metadata": {
        "colab": {
          "base_uri": "https://localhost:8080/"
        },
        "id": "mKlN1OtXyyKu",
        "outputId": "a49fb895-22bc-495f-de09-bb55f23e3f7b"
      },
      "execution_count": 8,
      "outputs": [
        {
          "output_type": "stream",
          "name": "stdout",
          "text": [
            "['False', 'None', 'True', 'and', 'as', 'assert', 'async', 'await', 'break', 'class', 'continue', 'def', 'del', 'elif', 'else', 'except', 'finally', 'for', 'from', 'global', 'if', 'import', 'in', 'is', 'lambda', 'nonlocal', 'not', 'or', 'pass', 'raise', 'return', 'try', 'while', 'with', 'yield']\n"
          ]
        }
      ]
    },
    {
      "cell_type": "markdown",
      "source": [
        "  Q.4 Write a program that checks if a given word is a Python keyword.\n"
      ],
      "metadata": {
        "id": "AuNwld2szYFn"
      }
    },
    {
      "cell_type": "code",
      "source": [
        "import keyword\n",
        "\n",
        "def check_keyword(word):\n",
        "  if keyword.iskeyword(word):\n",
        "    return f\"'{word}' is a Python keyword.\"\n",
        "  else:\n",
        "    return f\"'{word}' is not a Python keyword.\"\n",
        "\n",
        "word = input(\"Enter a word to check: \")\n",
        "print(check_keyword(word))"
      ],
      "metadata": {
        "colab": {
          "base_uri": "https://localhost:8080/"
        },
        "id": "jaV0iHgkzf4U",
        "outputId": "53b42efe-483b-4ab8-9dfd-f047a1487347"
      },
      "execution_count": 10,
      "outputs": [
        {
          "output_type": "stream",
          "name": "stdout",
          "text": [
            "Enter a word to check: darshika\n",
            "'darshika' is not a Python keyword.\n"
          ]
        }
      ]
    },
    {
      "cell_type": "markdown",
      "source": [
        "Q.5  Create a list and tuple in Python, and demonstrate how attempting to change an element works differently\n",
        "for each."
      ],
      "metadata": {
        "id": "acXwT07_0sst"
      }
    },
    {
      "cell_type": "code",
      "metadata": {
        "colab": {
          "base_uri": "https://localhost:8080/",
          "height": 211
        },
        "id": "7bff9363",
        "outputId": "e80d21de-c7f5-41c0-ac2f-b8b1f421c8e0"
      },
      "source": [
        "\n",
        "my_list = [1, 2, 3, 4, 5]\n",
        "my_tuple = (1, 2, 3, 4, 5)\n",
        "my_list[0] = 10\n",
        "print(my_list)\n",
        "my_tuple[0] = 10\n",
        "print(my_tuple)\n"
      ],
      "execution_count": 14,
      "outputs": [
        {
          "output_type": "stream",
          "name": "stdout",
          "text": [
            "[10, 2, 3, 4, 5]\n"
          ]
        },
        {
          "output_type": "error",
          "ename": "TypeError",
          "evalue": "'tuple' object does not support item assignment",
          "traceback": [
            "\u001b[0;31m---------------------------------------------------------------------------\u001b[0m",
            "\u001b[0;31mTypeError\u001b[0m                                 Traceback (most recent call last)",
            "\u001b[0;32m/tmp/ipython-input-3731172330.py\u001b[0m in \u001b[0;36m<cell line: 0>\u001b[0;34m()\u001b[0m\n\u001b[1;32m      3\u001b[0m \u001b[0mmy_list\u001b[0m\u001b[0;34m[\u001b[0m\u001b[0;36m0\u001b[0m\u001b[0;34m]\u001b[0m \u001b[0;34m=\u001b[0m \u001b[0;36m10\u001b[0m\u001b[0;34m\u001b[0m\u001b[0;34m\u001b[0m\u001b[0m\n\u001b[1;32m      4\u001b[0m \u001b[0mprint\u001b[0m\u001b[0;34m(\u001b[0m\u001b[0mmy_list\u001b[0m\u001b[0;34m)\u001b[0m\u001b[0;34m\u001b[0m\u001b[0;34m\u001b[0m\u001b[0m\n\u001b[0;32m----> 5\u001b[0;31m \u001b[0mmy_tuple\u001b[0m\u001b[0;34m[\u001b[0m\u001b[0;36m0\u001b[0m\u001b[0;34m]\u001b[0m \u001b[0;34m=\u001b[0m \u001b[0;36m10\u001b[0m\u001b[0;34m\u001b[0m\u001b[0;34m\u001b[0m\u001b[0m\n\u001b[0m\u001b[1;32m      6\u001b[0m \u001b[0mprint\u001b[0m\u001b[0;34m(\u001b[0m\u001b[0mmy_tuple\u001b[0m\u001b[0;34m)\u001b[0m\u001b[0;34m\u001b[0m\u001b[0;34m\u001b[0m\u001b[0m\n",
            "\u001b[0;31mTypeError\u001b[0m: 'tuple' object does not support item assignment"
          ]
        }
      ]
    },
    {
      "cell_type": "markdown",
      "source": [
        "Q.6  Write a function to demonstrate the behavior of mutable and immutable arguments\n"
      ],
      "metadata": {
        "id": "x1etktMqCS25"
      }
    },
    {
      "cell_type": "code",
      "source": [
        "def modify_arguments(mutable_arg, immutable_arg):\n",
        "  \"\"\"\n",
        "  This function demonstrates the behavior of mutable and immutable arguments.\n",
        "  \"\"\"\n",
        "  print(\"\\nInside the function:\")\n",
        "  # Modify the mutable argument (list)\n",
        "  mutable_arg.append(4)\n",
        "  print(f\"  Modified mutable argument: {mutable_arg}\")\n",
        "\n",
        "  # Modify the immutable argument (integer)\n",
        "  immutable_arg += 1\n",
        "  print(f\"  Modified immutable argument: {immutable_arg}\")\n",
        "\n",
        "\n",
        "# Define a list (mutable) and an integer (immutable)\n",
        "my_list = [1, 2, 3]\n",
        "my_integer = 10\n",
        "\n",
        "print(\"Before calling the function:\")\n",
        "print(f\"  Original list: {my_list}\")\n",
        "print(f\"  Original integer: {my_integer}\")\n",
        "\n",
        "# Call the function\n",
        "modify_arguments(my_list, my_integer)\n",
        "\n",
        "print(\"\\nAfter calling the function:\")\n",
        "print(f\"  Original list is now: {my_list} (changed)\")\n",
        "print(f\"  Original integer is now: {my_integer} (unchanged)\")"
      ],
      "metadata": {
        "colab": {
          "base_uri": "https://localhost:8080/"
        },
        "id": "V6jnpXBqCe-i",
        "outputId": "db21b243-9335-4fd2-f794-b9f12139249f"
      },
      "execution_count": 33,
      "outputs": [
        {
          "output_type": "stream",
          "name": "stdout",
          "text": [
            "Before calling the function:\n",
            "  Original list: [1, 2, 3]\n",
            "  Original integer: 10\n",
            "\n",
            "Inside the function:\n",
            "  Modified mutable argument: [1, 2, 3, 4]\n",
            "  Modified immutable argument: 11\n",
            "\n",
            "After calling the function:\n",
            "  Original list is now: [1, 2, 3, 4] (changed)\n",
            "  Original integer is now: 10 (unchanged)\n"
          ]
        }
      ]
    },
    {
      "cell_type": "markdown",
      "source": [
        "Q.7  Write a program that performs basic arithmetic operations on two user-input numbers."
      ],
      "metadata": {
        "id": "LnjajFDP4vaE"
      }
    },
    {
      "cell_type": "code",
      "source": [
        "a = 78\n",
        "b = 65\n",
        "print(\"Addition: {a + b}\")\n",
        "print(\"Subtraction: {a - b}\")\n",
        "print(\"Multiplication: {a * b}\")\n",
        "print(\"Division: {a / b}\")\n",
        "print(a + b)\n",
        "print(a - b)\n",
        "print(a * b)\n",
        "print(a / b)\n"
      ],
      "metadata": {
        "colab": {
          "base_uri": "https://localhost:8080/"
        },
        "id": "w7JG-TuZ42es",
        "outputId": "30a67879-56b4-4884-d001-2585e37def44"
      },
      "execution_count": 20,
      "outputs": [
        {
          "output_type": "stream",
          "name": "stdout",
          "text": [
            "Addition: {a + b}\n",
            "Subtraction: {a - b}\n",
            "Multiplication: {a * b}\n",
            "Division: {a / b}\n",
            "143\n",
            "13\n",
            "5070\n",
            "1.2\n"
          ]
        }
      ]
    },
    {
      "cell_type": "markdown",
      "source": [
        "Q.8  Write a program to demonstrate the use of logical operators.\n"
      ],
      "metadata": {
        "id": "L-WZ72lZ51wM"
      }
    },
    {
      "cell_type": "code",
      "source": [
        "# first check license then check if he is student, then check if he is a smoker\n",
        "\n",
        "age = int(input('Write your age: '))\n",
        "license = input('Do you possess a driving license ? (yes/no) ').lower()\n",
        "\n",
        "# AND operator:\n",
        "if age >= 20 and license == 'yes':\n",
        "    print('You are allowed to drive.')\n",
        "else:\n",
        "    print('You can not drive.')\n",
        "\n",
        "\n",
        "# OR operator:\n",
        "student = input('Are you a student ? (yes/no) ').lower()\n",
        "\n",
        "if age <= 18 or student == 'yes':\n",
        "    print('You are eligible for a special discount.')\n",
        "else:\n",
        "    print(\"Sorry! you aren't eligible the discount\")\n",
        "\n",
        "\n",
        "# NOT operator:\n",
        "course = input('''To get the special discount you need to subscribe to our course\\n\n",
        "Do you want to take the course ? (yes/no) ''').lower() == 'yes'\n",
        "\n",
        "if not course:\n",
        "  print('I think you should consider it once.')\n",
        "else:\n",
        "    print('Thanks for taking our course. Hope you have a great day ahead.')"
      ],
      "metadata": {
        "colab": {
          "base_uri": "https://localhost:8080/"
        },
        "id": "LOx9T7pH6Xu3",
        "outputId": "089c7291-1bb3-4eb5-c8bf-c28ec424c7de"
      },
      "execution_count": 23,
      "outputs": [
        {
          "output_type": "stream",
          "name": "stdout",
          "text": [
            "Write your age: 20\n",
            "Do you possess a driving license ? (yes/no) no\n",
            "You can not drive.\n",
            "Are you a student ? (yes/no) yes\n",
            "You are eligible for a special discount.\n",
            "To get the special discount you need to subscribe to our course\n",
            "\n",
            "Do you want to take the course ? (yes/no) yes\n",
            "Thanks for taking our course. Hope you have a great day ahead.\n"
          ]
        }
      ]
    },
    {
      "cell_type": "code",
      "source": [
        "Q.9  Write a Python program to convert user input from string to integer, float, and boolean types."
      ],
      "metadata": {
        "id": "gIdtL6sz8Ejg"
      },
      "execution_count": null,
      "outputs": []
    },
    {
      "cell_type": "code",
      "metadata": {
        "colab": {
          "base_uri": "https://localhost:8080/"
        },
        "id": "3c6187f3",
        "outputId": "3474364a-a4e0-4cfa-ab03-b69604d379e4"
      },
      "source": [
        "# Get input from the user\n",
        "input_str = input(\"Enter a value: \")\n",
        "\n",
        "# Convert to integer\n",
        "try:\n",
        "  integer_value = int(input_str)\n",
        "  print(f\"\\nSuccessfully converted to integer: {integer_value}\")\n",
        "  print(f\"Type: {type(integer_value)}\")\n",
        "except ValueError:\n",
        "  print(f\"\\nCould not convert '{input_str}' to an integer.\")\n",
        "\n",
        "# Convert to float\n",
        "try:\n",
        "  float_value = float(input_str)\n",
        "  print(f\"\\nSuccessfully converted to float: {float_value}\")\n",
        "  print(f\"Type: {type(float_value)}\")\n",
        "except ValueError:\n",
        "  print(f\"\\nCould not convert '{input_str}' to a float.\")\n",
        "\n",
        "# Convert to boolean\n",
        "# Note: Any non-empty string will evaluate to True.\n",
        "# For a more specific conversion, we can check for 'true' or 'false'.\n",
        "if input_str.lower() == 'true':\n",
        "  boolean_value = True\n",
        "  print(f\"\\nSuccessfully converted to boolean: {boolean_value}\")\n",
        "  print(f\"Type: {type(boolean_value)}\")\n",
        "elif input_str.lower() == 'false':\n",
        "  boolean_value = False\n",
        "  print(f\"\\nSuccessfully converted to boolean: {boolean_value}\")\n",
        "  print(f\"Type: {type(boolean_value)}\")\n",
        "else:\n",
        "  print(f\"\\nCould not explicitly convert '{input_str}' to a boolean (neither 'true' nor 'false').\")"
      ],
      "execution_count": 25,
      "outputs": [
        {
          "output_type": "stream",
          "name": "stdout",
          "text": [
            "Enter a value: 007\n",
            "\n",
            "Successfully converted to integer: 7\n",
            "Type: <class 'int'>\n",
            "\n",
            "Successfully converted to float: 7.0\n",
            "Type: <class 'float'>\n",
            "\n",
            "Could not explicitly convert '007' to a boolean (neither 'true' nor 'false').\n"
          ]
        }
      ]
    },
    {
      "cell_type": "markdown",
      "source": [
        "Q.10  Write code to demonstrate type casting with list elements."
      ],
      "metadata": {
        "id": "HsgHNG5D-s_X"
      }
    },
    {
      "cell_type": "code",
      "metadata": {
        "colab": {
          "base_uri": "https://localhost:8080/"
        },
        "id": "57fbe0fc",
        "outputId": "b49a63d2-a864-4dec-94c9-541f86002846"
      },
      "source": [
        "\n",
        "string_list = [\"1\", \"2\", \"3\", \"4\", \"5\"]\n",
        "print(f\"Original list of strings: {string_list}\")\n",
        "\n",
        "\n",
        "integer_list = [int(x) for x in string_list]\n",
        "print(f\"List of integers: {integer_list}\")\n",
        "print(f\"Type of the first element: {type(integer_list[0])}\")\n",
        "\n",
        "\n",
        "mixed_string_list = [\"1.1\", \"2.2\", \"3.3\", \"4.4\", \"5.5\"]\n",
        "print(f\"\\nOriginal list of mixed strings: {mixed_string_list}\")\n",
        "\n",
        "\n",
        "float_list = [float(x) for x in mixed_string_list]\n",
        "print(f\"List of floats: {float_list}\")\n",
        "print(f\"Type of the first element: {type(float_list[0])}\")"
      ],
      "execution_count": 26,
      "outputs": [
        {
          "output_type": "stream",
          "name": "stdout",
          "text": [
            "Original list of strings: ['1', '2', '3', '4', '5']\n",
            "List of integers: [1, 2, 3, 4, 5]\n",
            "Type of the first element: <class 'int'>\n",
            "\n",
            "Original list of mixed strings: ['1.1', '2.2', '3.3', '4.4', '5.5']\n",
            "List of floats: [1.1, 2.2, 3.3, 4.4, 5.5]\n",
            "Type of the first element: <class 'float'>\n"
          ]
        }
      ]
    },
    {
      "cell_type": "markdown",
      "source": [
        "Q.11  Write a program that checks if a number is positive, negative, or zero."
      ],
      "metadata": {
        "id": "lffRWiEd_E3X"
      }
    },
    {
      "cell_type": "code",
      "metadata": {
        "colab": {
          "base_uri": "https://localhost:8080/"
        },
        "id": "8b2634ab",
        "outputId": "980d079c-0700-4f9f-cbb6-f695d185d414"
      },
      "source": [
        "\n",
        "num_str = input(\"Enter a number: \")\n",
        "try:\n",
        "  num = float(num_str)\n",
        "\n",
        "  if num > 0:\n",
        "    print(\"The number is positive.\")\n",
        "  elif num < 0:\n",
        "    print(\"The number is negative.\")\n",
        "  else:\n",
        "    print(\"The number is zero.\")\n",
        "\n",
        "except ValueError:\n",
        "  print(\"Invalid input. Please enter a valid number.\")"
      ],
      "execution_count": 27,
      "outputs": [
        {
          "output_type": "stream",
          "name": "stdout",
          "text": [
            "Enter a number: 007\n",
            "The number is positive.\n"
          ]
        }
      ]
    },
    {
      "cell_type": "markdown",
      "source": [
        "Q.12 Write a for loop to print numbers from 1 to 10."
      ],
      "metadata": {
        "id": "Vd5v1wjJ_vXX"
      }
    },
    {
      "cell_type": "code",
      "metadata": {
        "colab": {
          "base_uri": "https://localhost:8080/"
        },
        "id": "d3a61c95",
        "outputId": "4112a766-64cc-4739-e98d-f95a1db616b0"
      },
      "source": [
        "for i in range(1, 11):\n",
        "  print(i)"
      ],
      "execution_count": 28,
      "outputs": [
        {
          "output_type": "stream",
          "name": "stdout",
          "text": [
            "1\n",
            "2\n",
            "3\n",
            "4\n",
            "5\n",
            "6\n",
            "7\n",
            "8\n",
            "9\n",
            "10\n"
          ]
        }
      ]
    },
    {
      "cell_type": "markdown",
      "source": [
        "Q.13  Write a Python program to find the sum of all even numbers between 1 and 50."
      ],
      "metadata": {
        "id": "lVdRNw5R__Nz"
      }
    },
    {
      "cell_type": "code",
      "metadata": {
        "colab": {
          "base_uri": "https://localhost:8080/"
        },
        "id": "b12dffe4",
        "outputId": "60207347-9c73-43f1-bd41-e09894573ad2"
      },
      "source": [
        "\n",
        "total = 0\n",
        "\n",
        "for num in range(1, 51):\n",
        "\n",
        "  if num % 2 == 0:\n",
        "\n",
        "    total += num\n",
        "\n",
        "\n",
        "print(f\"The sum of all even numbers between 1 and 50 is: {total}\")"
      ],
      "execution_count": 31,
      "outputs": [
        {
          "output_type": "stream",
          "name": "stdout",
          "text": [
            "The sum of all even numbers between 1 and 50 is: 650\n"
          ]
        }
      ]
    },
    {
      "cell_type": "markdown",
      "source": [
        "Q.14 Write a program to reverse a string using a while loop.\n"
      ],
      "metadata": {
        "id": "N_OV4RhNAW7g"
      }
    },
    {
      "cell_type": "code",
      "metadata": {
        "colab": {
          "base_uri": "https://localhost:8080/"
        },
        "id": "c0b4baab",
        "outputId": "76ea1a5b-80b5-4b35-9d17-0172fed51bd3"
      },
      "source": [
        "\n",
        "input_string = input(\"Enter a string: \")\n",
        "\n",
        "reversed_string = \"\"\n",
        "index = len(input_string) - 1\n",
        "\n",
        "while index >= 0:\n",
        "  reversed_string += input_string[index]\n",
        "  index -= 1\n",
        "\n",
        "\n",
        "print(f\"The reversed string is: {reversed_string}\")"
      ],
      "execution_count": 30,
      "outputs": [
        {
          "output_type": "stream",
          "name": "stdout",
          "text": [
            "Enter a string: YADAV\n",
            "The reversed string is: VADAY\n"
          ]
        }
      ]
    },
    {
      "cell_type": "markdown",
      "source": [
        "Q.15  a Python program to calculate the factorial of a number provided by the user using a while loop."
      ],
      "metadata": {
        "id": "bYCiuR10BTMH"
      }
    },
    {
      "cell_type": "code",
      "metadata": {
        "colab": {
          "base_uri": "https://localhost:8080/"
        },
        "id": "8710030e",
        "outputId": "a74d58b5-d02e-4913-e4d5-16562230c050"
      },
      "source": [
        "\n",
        "num_str = input(\"Enter a non-negative integer: \")\n",
        "\n",
        "try:\n",
        "  num = int(num_str)\n",
        "\n",
        "  if num < 0:\n",
        "    print(\"Factorial is not defined for negative numbers.\")\n",
        "  elif num == 0:\n",
        "    print(\"The factorial of 0 is 1.\")\n",
        "  else:\n",
        "    factorial = 1\n",
        "    i = 1\n",
        "    while i <= num:\n",
        "      factorial *= i\n",
        "      i += 1\n",
        "    print(f\"The factorial of {num} is {factorial}.\")\n",
        "\n",
        "except ValueError:\n",
        "  print(\"Invalid input. Please enter a valid integer.\")"
      ],
      "execution_count": 32,
      "outputs": [
        {
          "output_type": "stream",
          "name": "stdout",
          "text": [
            "Enter a non-negative integer: 2507\n",
            "Invalid input. Please enter a valid integer.\n"
          ]
        }
      ]
    }
  ]
}